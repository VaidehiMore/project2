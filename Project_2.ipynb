{
  "nbformat": 4,
  "nbformat_minor": 0,
  "metadata": {
    "colab": {
      "provenance": [],
      "include_colab_link": true
    },
    "kernelspec": {
      "name": "python3",
      "display_name": "Python 3"
    },
    "language_info": {
      "name": "python"
    }
  },
  "cells": [
    {
      "cell_type": "markdown",
      "metadata": {
        "id": "view-in-github",
        "colab_type": "text"
      },
      "source": [
        "<a href=\"https://colab.research.google.com/github/VaidehiMore/project2/blob/main/Project_2.ipynb\" target=\"_parent\"><img src=\"https://colab.research.google.com/assets/colab-badge.svg\" alt=\"Open In Colab\"/></a>"
      ]
    },
    {
      "cell_type": "markdown",
      "source": [
        "#### Please upload your datasets before running the cells"
      ],
      "metadata": {
        "id": "NVlbl-UKvVnY"
      }
    },
    {
      "cell_type": "markdown",
      "source": [
        "### Q1: How many books do not have an original title [books.csv] ? (N)"
      ],
      "metadata": {
        "id": "90z8J0-e5oeC"
      }
    },
    {
      "cell_type": "code",
      "execution_count": 1,
      "metadata": {
        "id": "NhVq2HOk4pG8",
        "colab": {
          "base_uri": "https://localhost:8080/"
        },
        "outputId": "ce28fe72-dfac-4da5-9be8-0923ba92da6b"
      },
      "outputs": [
        {
          "output_type": "execute_result",
          "data": {
            "text/plain": [
              "585"
            ]
          },
          "metadata": {},
          "execution_count": 1
        }
      ],
      "source": [
        "import pandas as pd\n",
        "import numpy as np\n",
        "books = pd.read_csv(\"books.csv\")\n",
        "books[\"original_title\"].isna().sum()"
      ]
    },
    {
      "cell_type": "markdown",
      "source": [
        "### Q2: How many unique books are present in the dataset ? Evaluate based on the 'book_id'? [books.csv] (N)"
      ],
      "metadata": {
        "id": "-0FAu_LpZAyH"
      }
    },
    {
      "cell_type": "code",
      "source": [
        "import pandas as pd\n",
        "books = pd.read_csv(\"books.csv\")\n",
        "books[\"book_id\"].nunique()"
      ],
      "metadata": {
        "colab": {
          "base_uri": "https://localhost:8080/"
        },
        "id": "hYCYTLSSbX4z",
        "outputId": "eb28f8e1-1292-45c9-e56e-6e2b8e2e4b22"
      },
      "execution_count": 2,
      "outputs": [
        {
          "output_type": "execute_result",
          "data": {
            "text/plain": [
              "10000"
            ]
          },
          "metadata": {},
          "execution_count": 2
        }
      ]
    },
    {
      "cell_type": "markdown",
      "source": [
        "### Q3: How many unique books are present in the dataset [books.csv]? (N)"
      ],
      "metadata": {
        "id": "ESSvI7WbZIWo"
      }
    },
    {
      "cell_type": "code",
      "source": [
        "import pandas as pd\n",
        "ratings = pd.read_csv(\"books.csv\")\n",
        "ratings[\"book_id\"].nunique()"
      ],
      "metadata": {
        "colab": {
          "base_uri": "https://localhost:8080/"
        },
        "id": "hm0CMNp9blq5",
        "outputId": "8b6a4b9c-fa80-4887-89b9-55ca19ba1012"
      },
      "execution_count": 14,
      "outputs": [
        {
          "output_type": "execute_result",
          "data": {
            "text/plain": [
              "10000"
            ]
          },
          "metadata": {},
          "execution_count": 14
        }
      ]
    },
    {
      "cell_type": "markdown",
      "source": [
        "### Q4: Which book (title) has the maximum number of ratings based on (work_ratings_count) [books.csv] ? (S)"
      ],
      "metadata": {
        "id": "DxdueN2KZN7Y"
      }
    },
    {
      "cell_type": "code",
      "source": [
        "import pandas as pd\n",
        "books = pd.read_csv(\"books.csv\")\n",
        "books.loc[books[\"work_ratings_count\"].idxmax()][\"title\"]"
      ],
      "metadata": {
        "colab": {
          "base_uri": "https://localhost:8080/",
          "height": 36
        },
        "id": "R_CUmIVOcBxl",
        "outputId": "babc9ed6-2c3f-4f09-e776-0cd88236f408"
      },
      "execution_count": 4,
      "outputs": [
        {
          "output_type": "execute_result",
          "data": {
            "text/plain": [
              "'The Hunger Games (The Hunger Games, #1)'"
            ],
            "application/vnd.google.colaboratory.intrinsic+json": {
              "type": "string"
            }
          },
          "metadata": {},
          "execution_count": 4
        }
      ]
    },
    {
      "cell_type": "markdown",
      "source": [
        "### Q5: Which (tag_id) is the most frequently used ie. mapped with the highest number of books [books.csv]? (In case of more than one tag, mention the tag id with the least numerical value) (N)"
      ],
      "metadata": {
        "id": "Fe3aR44NZVFR"
      }
    },
    {
      "cell_type": "code",
      "source": [
        "import pandas as pd\n",
        "book_tags = pd.read_csv(\"books.csv\")\n",
        "value_counts = book_tags['best_book_id'].value_counts()\n",
        "max_count = value_counts.max()\n",
        "value_counts[value_counts == max_count].index.min()"
      ],
      "metadata": {
        "colab": {
          "base_uri": "https://localhost:8080/"
        },
        "id": "uFSuNYKYc5nP",
        "outputId": "dba0f0f3-7116-46e5-c452-63debdb6a88a"
      },
      "execution_count": 20,
      "outputs": [
        {
          "output_type": "execute_result",
          "data": {
            "text/plain": [
              "1"
            ]
          },
          "metadata": {},
          "execution_count": 20
        }
      ]
    },
    {
      "cell_type": "markdown",
      "source": [
        "### Q6: Which book (title) has the most number of counts of tags given by the user ie. the book with maximum user records including all tags [book_tags.csv,books.csv] ? (S)"
      ],
      "metadata": {
        "id": "58hHMyD3ZZi6"
      }
    },
    {
      "cell_type": "code",
      "source": [
        "import pandas as pd\n",
        "books = pd.read_csv(\"books.csv\")\n",
        "\n",
        "value_counts = book_tags.groupby(\"goodreads_book_id\")[\"book_id\"].sum()\n",
        "books[books[\"goodreads_book_id\"] == value_counts.idxmax()][\"title\"].values[0]"
      ],
      "metadata": {
        "colab": {
          "base_uri": "https://localhost:8080/",
          "height": 36
        },
        "id": "oUoHDmyTefT4",
        "outputId": "df497ee2-a6e6-4df0-a2ae-649b273a396a"
      },
      "execution_count": 30,
      "outputs": [
        {
          "output_type": "execute_result",
          "data": {
            "text/plain": [
              "'The First World War'"
            ],
            "application/vnd.google.colaboratory.intrinsic+json": {
              "type": "string"
            }
          },
          "metadata": {},
          "execution_count": 30
        }
      ]
    },
    {
      "cell_type": "markdown",
      "source": [
        "### Q7: Which book (goodreads_book_id) is marked as to-read by most users [books.csv,toread.csv] ? (N)"
      ],
      "metadata": {
        "id": "RJYmWjD7ZgDV"
      }
    },
    {
      "cell_type": "code",
      "source": [
        "import pandas as pd\n",
        "books = pd.read_csv(\"books.csv\")\n",
        "\n",
        "value_counts = books.groupby(\"book_id\")[\"title\"].nunique()\n",
        "books[books[\"book_id\"] == value_counts.idxmax()][\"title\"].values[0]"
      ],
      "metadata": {
        "colab": {
          "base_uri": "https://localhost:8080/",
          "height": 36
        },
        "id": "Fz1FrH_3fSuh",
        "outputId": "d0fb870e-75f8-46f5-bac1-b3da0e3233bb"
      },
      "execution_count": 32,
      "outputs": [
        {
          "output_type": "execute_result",
          "data": {
            "text/plain": [
              "'The Hunger Games (The Hunger Games, #1)'"
            ],
            "application/vnd.google.colaboratory.intrinsic+json": {
              "type": "string"
            }
          },
          "metadata": {},
          "execution_count": 32
        }
      ]
    },
    {
      "cell_type": "markdown",
      "source": [
        "### Q8: Which is the least used tag, i.e. mapped with the lowest number of books [book_tags.csv]? (In case of more than one tag, mention the tag id with the least numerical value) (N)"
      ],
      "metadata": {
        "id": "xqOOa7dbZkSH"
      }
    },
    {
      "cell_type": "code",
      "source": [
        "import pandas as pd\n",
        "books = pd.read_csv(\"books.csv\")\n",
        "value_counts = book_tags[\"book_id\"].value_counts()\n",
        "min_count = value_counts.min()\n",
        "value_counts[value_counts == min_count].index.min()"
      ],
      "metadata": {
        "colab": {
          "base_uri": "https://localhost:8080/"
        },
        "id": "AhSQulNOgKAO",
        "outputId": "60447abe-eeb0-4a84-8ac1-42af7e39cea9"
      },
      "execution_count": 33,
      "outputs": [
        {
          "output_type": "execute_result",
          "data": {
            "text/plain": [
              "1"
            ]
          },
          "metadata": {},
          "execution_count": 33
        }
      ]
    },
    {
      "cell_type": "markdown",
      "source": [
        "### Q9: Which book (title) has the minimum (average_rating) [books.csv], if more than 1 book have same average rating, sort the books by ['title'] in alphabetical order and use the first book in the sorted list? (S)"
      ],
      "metadata": {
        "id": "njqF2jNSZnTj"
      }
    },
    {
      "cell_type": "code",
      "source": [
        "import pandas as pd\n",
        "books = pd.read_csv(\"books.csv\")\n",
        "min_avg_rating = books[\"average_rating\"].min()\n",
        "books[books[\"average_rating\"] == min_avg_rating][\"title\"].sort_values(ascending=True).values[0]"
      ],
      "metadata": {
        "colab": {
          "base_uri": "https://localhost:8080/",
          "height": 35
        },
        "id": "7zENiqPYgzEG",
        "outputId": "45a7ed70-0653-4a30-de6e-79e66aeaa5ae"
      },
      "execution_count": null,
      "outputs": [
        {
          "output_type": "execute_result",
          "data": {
            "text/plain": [
              "'Lost'"
            ],
            "application/vnd.google.colaboratory.intrinsic+json": {
              "type": "string"
            }
          },
          "metadata": {},
          "execution_count": 10
        }
      ]
    },
    {
      "cell_type": "markdown",
      "source": [
        "### Q10: Which book (goodreads_book_id) has the least number of count of tags given by the user ie. the book with minimum user records including all tags [book_tags.csv] ? (N)"
      ],
      "metadata": {
        "id": "Od76kGqbZqMW"
      }
    },
    {
      "cell_type": "code",
      "source": [
        "import pandas as pd\n",
        "book_tags = pd.read_csv(\"book_tags.csv\")\n",
        "value_counts = book_tags.groupby(\"goodreads_book_id\")[\"count\"].sum()\n",
        "value_counts[value_counts == value_counts.min()].index[0]"
      ],
      "metadata": {
        "colab": {
          "base_uri": "https://localhost:8080/"
        },
        "id": "ZW6FRNsEhjUf",
        "outputId": "65fbed8b-fe2c-46c1-d124-602ae29a86fc"
      },
      "execution_count": null,
      "outputs": [
        {
          "output_type": "execute_result",
          "data": {
            "text/plain": [
              "3334563"
            ]
          },
          "metadata": {},
          "execution_count": 11
        }
      ]
    },
    {
      "cell_type": "markdown",
      "source": [
        "### Q11: How many unique tags are there in the dataset [books.csv] ? (N)"
      ],
      "metadata": {
        "id": "ni6sIxAWZvA-"
      }
    },
    {
      "cell_type": "code",
      "source": [
        "import pandas as pd\n",
        "books = pd.read_csv(\"books.csv\")\n",
        "book_tags[\"book_id\"].nunique()"
      ],
      "metadata": {
        "colab": {
          "base_uri": "https://localhost:8080/"
        },
        "id": "4sO94AsZiPgw",
        "outputId": "8bf75368-7825-47e7-8609-8e40c414da53"
      },
      "execution_count": 34,
      "outputs": [
        {
          "output_type": "execute_result",
          "data": {
            "text/plain": [
              "10000"
            ]
          },
          "metadata": {},
          "execution_count": 34
        }
      ]
    },
    {
      "cell_type": "markdown",
      "source": [
        "### Q12: What is the mean value of rating of all the books in the dataset based on (average_rating) [books.csv] ? (F)"
      ],
      "metadata": {
        "id": "hvGdltfRZydZ"
      }
    },
    {
      "cell_type": "code",
      "source": [
        "import pandas as pd\n",
        "books = pd.read_csv(\"books.csv\")\n",
        "f\"{books['average_rating'].mean():.2f}\""
      ],
      "metadata": {
        "colab": {
          "base_uri": "https://localhost:8080/",
          "height": 36
        },
        "id": "veCGyNG5ibBU",
        "outputId": "282801f0-480a-4d33-beb5-c32b37dfdeb5"
      },
      "execution_count": 11,
      "outputs": [
        {
          "output_type": "execute_result",
          "data": {
            "text/plain": [
              "'4.00'"
            ],
            "application/vnd.google.colaboratory.intrinsic+json": {
              "type": "string"
            }
          },
          "metadata": {},
          "execution_count": 11
        }
      ]
    },
    {
      "cell_type": "markdown",
      "source": [
        "### Q14: Predict sentiment using Textblob. How many positive titles (original_title) are there [books.csv] ? (cut-off >=0) N"
      ],
      "metadata": {
        "id": "DLCFMO94Z18s"
      }
    },
    {
      "cell_type": "code",
      "source": [
        "from textblob import TextBlob\n",
        "import pandas as pd\n",
        "import numpy as np\n",
        "books = pd.read_csv(\"books.csv\")\n",
        "books_cleaned = books.dropna(subset=[\"original_title\"])\n",
        "original_titles = books_cleaned[\"original_title\"].values\n",
        "[TextBlob(title).sentiment.polarity >= 0 for title in original_titles].count(True)"
      ],
      "metadata": {
        "colab": {
          "base_uri": "https://localhost:8080/"
        },
        "id": "nc45QdxOi7Io",
        "outputId": "42142fb5-cb2f-4ffa-d885-2306df75aa02"
      },
      "execution_count": 10,
      "outputs": [
        {
          "output_type": "execute_result",
          "data": {
            "text/plain": [
              "8458"
            ]
          },
          "metadata": {},
          "execution_count": 10
        }
      ]
    },
    {
      "cell_type": "markdown",
      "source": [
        "### Export"
      ],
      "metadata": {
        "id": "CTAZsJDrkS4j"
      }
    },
    {
      "cell_type": "code",
      "source": [
        "import pandas as pd\n",
        "### Edit this to include your questions and answers in order\n",
        "answers = {\"Q4\":\"The Hunger Games (The Hunger Games, #1)\",\n",
        "           \"Q12\":4.05,\n",
        "           \"Q6\":\"Harry Potter and the Sorcerer's Stone (Harry Potter, #1)\",\n",
        "           \"Q10\":3334563,\n",
        "           \"Q8\":24,\n",
        "           \"Q11\":6084,\n",
        "           \"Q1\":51,\n",
        "           \"Q7\":5470,\n",
        "           \"Q2\":1620,\n",
        "           \"Q14\":1426}\n",
        "\n",
        "### Download the answers.csv\n",
        "pd.DataFrame.from_dict(answers,orient='index').to_csv(\"answers.csv\", header=False, encoding='utf-8')"
      ],
      "metadata": {
        "id": "iF1XXqDRkWEe"
      },
      "execution_count": 9,
      "outputs": []
    },
    {
      "cell_type": "markdown",
      "source": [
        "#### PS: Wrapping up this final Project! It's been great learning with everyone. Thank You!!\n",
        "\n",
        "Let's keep in touch: [LinkedIn](https://in.linkedin.com/in/sm-arif-ali-17386821b)"
      ],
      "metadata": {
        "id": "pnTOvZ_DtaAK"
      }
    }
  ]
}